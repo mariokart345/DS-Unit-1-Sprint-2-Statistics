{
  "nbformat": 4,
  "nbformat_minor": 0,
  "metadata": {
    "colab": {
      "name": "LS_DS_124_Bayesian_Inference_Assignment.ipynb",
      "provenance": [],
      "collapsed_sections": [],
      "include_colab_link": true
    },
    "kernelspec": {
      "name": "python3",
      "display_name": "Python 3"
    }
  },
  "cells": [
    {
      "cell_type": "markdown",
      "metadata": {
        "id": "view-in-github",
        "colab_type": "text"
      },
      "source": [
        "<a href=\"https://colab.research.google.com/github/mariokart345/DS-Unit-1-Sprint-2-Statistics/blob/master/module4-bayesian/LS_DS_124_Bayesian_Inference_Assignment.ipynb\" target=\"_parent\"><img src=\"https://colab.research.google.com/assets/colab-badge.svg\" alt=\"Open In Colab\"/></a>"
      ]
    },
    {
      "cell_type": "markdown",
      "metadata": {
        "id": "H7OLbevlbd_Z"
      },
      "source": [
        "# Lambda School Data Science Module 124\n",
        "\n",
        "## Introduction to Bayesian Inference\n",
        "\n",
        "\n"
      ]
    },
    {
      "cell_type": "markdown",
      "metadata": {
        "id": "iliKwAvIKbyD"
      },
      "source": [
        "### 1) In your own words, summarize the difference between Bayesian and Frequentist statistics."
      ]
    },
    {
      "cell_type": "markdown",
      "metadata": {
        "id": "VHo7IAIFMNRT"
      },
      "source": [
        "Your answer here."
      ]
    },
    {
      "cell_type": "markdown",
      "metadata": {
        "id": "db4m0HhBCMhR"
      },
      "source": [
        "###For questions 2) - 8) use the following information:\n",
        "\n",
        "Let A be the event of surviving the sinking of the Titanic and B be the event of being a 1st class passenger."
      ]
    },
    {
      "cell_type": "code",
      "metadata": {
        "id": "qXaf5leo7CHr",
        "colab": {
          "base_uri": "https://localhost:8080/",
          "height": 340
        },
        "outputId": "220a6b66-ad4a-4a60-8549-9adca7bff9db"
      },
      "source": [
        "import pandas as pd\n",
        "import numpy as np\n",
        "\n",
        "\n",
        "data_url = 'https://raw.githubusercontent.com/Chelsea-Myers/Lambda-Intro/master/Titanic.csv'\n",
        "\n",
        "df = pd.read_csv(data_url, skipinitialspace=True, header=0)\n",
        "\n",
        "print(df.shape)\n",
        "df.head()"
      ],
      "execution_count": 8,
      "outputs": [
        {
          "output_type": "stream",
          "text": [
            "(887, 8)\n"
          ],
          "name": "stdout"
        },
        {
          "output_type": "execute_result",
          "data": {
            "text/html": [
              "<div>\n",
              "<style scoped>\n",
              "    .dataframe tbody tr th:only-of-type {\n",
              "        vertical-align: middle;\n",
              "    }\n",
              "\n",
              "    .dataframe tbody tr th {\n",
              "        vertical-align: top;\n",
              "    }\n",
              "\n",
              "    .dataframe thead th {\n",
              "        text-align: right;\n",
              "    }\n",
              "</style>\n",
              "<table border=\"1\" class=\"dataframe\">\n",
              "  <thead>\n",
              "    <tr style=\"text-align: right;\">\n",
              "      <th></th>\n",
              "      <th>Survived</th>\n",
              "      <th>Pclass</th>\n",
              "      <th>Name</th>\n",
              "      <th>Sex</th>\n",
              "      <th>Age</th>\n",
              "      <th>Siblings/Spouses_Aboard</th>\n",
              "      <th>Parents/Children_Aboard</th>\n",
              "      <th>Fare</th>\n",
              "    </tr>\n",
              "  </thead>\n",
              "  <tbody>\n",
              "    <tr>\n",
              "      <th>0</th>\n",
              "      <td>0</td>\n",
              "      <td>3</td>\n",
              "      <td>Mr. Owen Harris Braund</td>\n",
              "      <td>male</td>\n",
              "      <td>22.0</td>\n",
              "      <td>1</td>\n",
              "      <td>0</td>\n",
              "      <td>7.2500</td>\n",
              "    </tr>\n",
              "    <tr>\n",
              "      <th>1</th>\n",
              "      <td>1</td>\n",
              "      <td>1</td>\n",
              "      <td>Mrs. John Bradley (Florence Briggs Thayer) Cum...</td>\n",
              "      <td>female</td>\n",
              "      <td>38.0</td>\n",
              "      <td>1</td>\n",
              "      <td>0</td>\n",
              "      <td>71.2833</td>\n",
              "    </tr>\n",
              "    <tr>\n",
              "      <th>2</th>\n",
              "      <td>1</td>\n",
              "      <td>3</td>\n",
              "      <td>Miss. Laina Heikkinen</td>\n",
              "      <td>female</td>\n",
              "      <td>26.0</td>\n",
              "      <td>0</td>\n",
              "      <td>0</td>\n",
              "      <td>7.9250</td>\n",
              "    </tr>\n",
              "    <tr>\n",
              "      <th>3</th>\n",
              "      <td>1</td>\n",
              "      <td>1</td>\n",
              "      <td>Mrs. Jacques Heath (Lily May Peel) Futrelle</td>\n",
              "      <td>female</td>\n",
              "      <td>35.0</td>\n",
              "      <td>1</td>\n",
              "      <td>0</td>\n",
              "      <td>53.1000</td>\n",
              "    </tr>\n",
              "    <tr>\n",
              "      <th>4</th>\n",
              "      <td>0</td>\n",
              "      <td>3</td>\n",
              "      <td>Mr. William Henry Allen</td>\n",
              "      <td>male</td>\n",
              "      <td>35.0</td>\n",
              "      <td>0</td>\n",
              "      <td>0</td>\n",
              "      <td>8.0500</td>\n",
              "    </tr>\n",
              "  </tbody>\n",
              "</table>\n",
              "</div>"
            ],
            "text/plain": [
              "   Survived  Pclass  ... Parents/Children_Aboard     Fare\n",
              "0         0       3  ...                       0   7.2500\n",
              "1         1       1  ...                       0  71.2833\n",
              "2         1       3  ...                       0   7.9250\n",
              "3         1       1  ...                       0  53.1000\n",
              "4         0       3  ...                       0   8.0500\n",
              "\n",
              "[5 rows x 8 columns]"
            ]
          },
          "metadata": {
            "tags": []
          },
          "execution_count": 8
        }
      ]
    },
    {
      "cell_type": "code",
      "metadata": {
        "colab": {
          "base_uri": "https://localhost:8080/"
        },
        "id": "PdFhw3FmCTMj",
        "outputId": "57a0cc73-f7e7-49d4-e631-8891d0afad32"
      },
      "source": [
        "print(df['Survived'].value_counts())\n",
        "print(df['Pclass'].value_counts())"
      ],
      "execution_count": 9,
      "outputs": [
        {
          "output_type": "stream",
          "text": [
            "0    545\n",
            "1    342\n",
            "Name: Survived, dtype: int64\n",
            "3    487\n",
            "1    216\n",
            "2    184\n",
            "Name: Pclass, dtype: int64\n"
          ],
          "name": "stdout"
        }
      ]
    },
    {
      "cell_type": "markdown",
      "metadata": {
        "id": "4shP8MH8CbrZ"
      },
      "source": [
        "2) Calculate P(A) = P(Surviving)"
      ]
    },
    {
      "cell_type": "code",
      "metadata": {
        "id": "iDi0eFr1x-v_",
        "colab": {
          "base_uri": "https://localhost:8080/"
        },
        "outputId": "9153ba86-5020-46b1-fa47-651233b27a8c"
      },
      "source": [
        "P_A=342/(545+342)\n",
        "P_A"
      ],
      "execution_count": 10,
      "outputs": [
        {
          "output_type": "execute_result",
          "data": {
            "text/plain": [
              "0.3855693348365276"
            ]
          },
          "metadata": {
            "tags": []
          },
          "execution_count": 10
        }
      ]
    },
    {
      "cell_type": "markdown",
      "metadata": {
        "id": "ZV_UsohfC6r_"
      },
      "source": [
        "3) Calculate P(B) = P(Being a 1st class passenger)"
      ]
    },
    {
      "cell_type": "code",
      "metadata": {
        "id": "wcBGNBoQL6iS",
        "colab": {
          "base_uri": "https://localhost:8080/"
        },
        "outputId": "d4ca45d5-e5b8-48df-ade4-5a8ee3e81cfd"
      },
      "source": [
        "P_B=216/(487+216+184)\n",
        "P_B"
      ],
      "execution_count": 11,
      "outputs": [
        {
          "output_type": "execute_result",
          "data": {
            "text/plain": [
              "0.24351747463359638"
            ]
          },
          "metadata": {
            "tags": []
          },
          "execution_count": 11
        }
      ]
    },
    {
      "cell_type": "markdown",
      "metadata": {
        "id": "3tJKQmH-Cm6u"
      },
      "source": [
        "4) Calculate P(A $\\cap$ B) = P(Being a 1st class passenger and surviving)"
      ]
    },
    {
      "cell_type": "code",
      "metadata": {
        "id": "9Nr8LWPyL7P6",
        "colab": {
          "base_uri": "https://localhost:8080/"
        },
        "outputId": "34db091f-a272-4ad6-fa52-7a029a0eb3df"
      },
      "source": [
        "P_A_intersect_B=P_A*((P_B*P_A)/P_B)\n",
        "P_A_intersect_B"
      ],
      "execution_count": 12,
      "outputs": [
        {
          "output_type": "execute_result",
          "data": {
            "text/plain": [
              "0.14866371196628234"
            ]
          },
          "metadata": {
            "tags": []
          },
          "execution_count": 12
        }
      ]
    },
    {
      "cell_type": "markdown",
      "metadata": {
        "id": "VzHakDD6DOcL"
      },
      "source": [
        "5) Calculate P(A|B) = P(Surviving given that the person was a 1st class passenger)"
      ]
    },
    {
      "cell_type": "code",
      "metadata": {
        "id": "TxrNmmzZL7zw",
        "colab": {
          "base_uri": "https://localhost:8080/"
        },
        "outputId": "bf1b81dd-a2ad-4e87-de1b-71b6af67036a"
      },
      "source": [
        "P_A_given_B=(P_A*P_B)/P_A\n",
        "P_A_given_B"
      ],
      "execution_count": 13,
      "outputs": [
        {
          "output_type": "execute_result",
          "data": {
            "text/plain": [
              "0.24351747463359635"
            ]
          },
          "metadata": {
            "tags": []
          },
          "execution_count": 13
        }
      ]
    },
    {
      "cell_type": "markdown",
      "metadata": {
        "id": "XLHGkgqIDZvi"
      },
      "source": [
        "6) Calculate (B|A) = P(Being a first class passenger given the person survived)"
      ]
    },
    {
      "cell_type": "code",
      "metadata": {
        "id": "9_8-BEipL8U5",
        "colab": {
          "base_uri": "https://localhost:8080/"
        },
        "outputId": "4e06d7bc-f547-4dbb-94ae-2ce3959c9ab6"
      },
      "source": [
        "P_B_given_A=(P_B*P_A)/P_B\n",
        "P_B_given_A"
      ],
      "execution_count": 14,
      "outputs": [
        {
          "output_type": "execute_result",
          "data": {
            "text/plain": [
              "0.3855693348365276"
            ]
          },
          "metadata": {
            "tags": []
          },
          "execution_count": 14
        }
      ]
    },
    {
      "cell_type": "markdown",
      "metadata": {
        "id": "lxYJhvp1DkLS"
      },
      "source": [
        "7) Show that \n",
        "\n",
        "$$P(A|B) = \\frac{P(A \\cap B)}{P(B)}$$\n",
        "\n",
        "with the numbers you calculate above."
      ]
    },
    {
      "cell_type": "code",
      "metadata": {
        "id": "P0k0E5OKL9C-",
        "colab": {
          "base_uri": "https://localhost:8080/"
        },
        "outputId": "b7ed649e-00e1-4cec-fca1-a0541edde431"
      },
      "source": [
        "P_A_intersect_B/P_B"
      ],
      "execution_count": 15,
      "outputs": [
        {
          "output_type": "execute_result",
          "data": {
            "text/plain": [
              "0.6104847801578354"
            ]
          },
          "metadata": {
            "tags": []
          },
          "execution_count": 15
        }
      ]
    },
    {
      "cell_type": "markdown",
      "metadata": {
        "id": "M2pRVt7ADsFk"
      },
      "source": [
        "8) Show that \n",
        "\n",
        "$$P(A|B) = \\frac{P(B|A)P(A)}{P(B)}$$\n",
        "\n",
        "with the numbers you calculated above."
      ]
    },
    {
      "cell_type": "code",
      "metadata": {
        "id": "w_sbMMAUL9qH",
        "colab": {
          "base_uri": "https://localhost:8080/"
        },
        "outputId": "a7072519-c0e2-425d-b709-e7f64fbecbc8"
      },
      "source": [
        "(P_B_given_A*P_A)/P_B"
      ],
      "execution_count": 16,
      "outputs": [
        {
          "output_type": "execute_result",
          "data": {
            "text/plain": [
              "0.6104847801578354"
            ]
          },
          "metadata": {
            "tags": []
          },
          "execution_count": 16
        }
      ]
    },
    {
      "cell_type": "markdown",
      "metadata": {
        "id": "SB1m04Zf16Lo"
      },
      "source": [
        "###Use the following information to answer questions 9) - 13) \n",
        "\n",
        "\n",
        "Students arriving at Hogwarts are sorted into one of the four residential houses -- Gryffindor, Hufflepuff, Ravenclaw, and Slytherin -- by the magical Sorting Hat.\n",
        "\n",
        "\n",
        "In theory, the Hat is supposed to examine each student's personality, consider his or her wishes, and then place the student into the most appropriate house. However, after a thousand years, the Hat has gotten pretty lazy, so it has simplified its sorting process into a two-step algorithm:\n",
        "\n",
        "\n",
        "\n",
        "All evil students go into Slytherin, obviously.\n",
        "\n",
        "\n",
        "Everybody else is just randomly sorted into one of the four houses, with a 40% probability of being put into Hufflepuff and a 20% probability of being put into each of the three other houses.\n",
        "\n",
        "\n",
        "Hermione is shocked when she's sorted into Slytherin! She's never thought of herself as evil, but now that she considers it, becoming the future Dark Lady of Magical Britain does have some appeal...\n",
        "\n",
        "\n",
        "If 10% of new Hogwarts students are evil, what is the probability that a randomly chosen Slytherin is evil?\n",
        "\n",
        "\n",
        "Tip: the value you want is P(Evil | Slytherin)."
      ]
    },
    {
      "cell_type": "markdown",
      "metadata": {
        "id": "TB-dEdYIvXev"
      },
      "source": [
        "9) Show the intermediate step that allows us to write: \n",
        "\n",
        "$$P(Evil|Slytherin)= \\frac{P(Slytherin|Evil)P(Evil)}{P(Slytherin)}$$"
      ]
    },
    {
      "cell_type": "markdown",
      "metadata": {
        "id": "QWtpuAzRD8jL"
      },
      "source": [
        "Answer: "
      ]
    },
    {
      "cell_type": "markdown",
      "metadata": {
        "id": "HzceET6m6qH-"
      },
      "source": [
        "10) Determine P(Slytherin|Evil)."
      ]
    },
    {
      "cell_type": "markdown",
      "metadata": {
        "id": "My1_pfxcEOMa"
      },
      "source": [
        "Answer:"
      ]
    },
    {
      "cell_type": "code",
      "metadata": {
        "id": "FfNx_SAHHKKQ",
        "outputId": "611d2117-ce8e-4ba3-fd23-88304d58145d",
        "colab": {
          "base_uri": "https://localhost:8080/"
        }
      },
      "source": [
        "(.2*.1)/.2"
      ],
      "execution_count": 24,
      "outputs": [
        {
          "output_type": "execute_result",
          "data": {
            "text/plain": [
              "0.10000000000000002"
            ]
          },
          "metadata": {
            "tags": []
          },
          "execution_count": 24
        }
      ]
    },
    {
      "cell_type": "markdown",
      "metadata": {
        "id": "J5tvhwT662fm"
      },
      "source": [
        "11) Determine P(Evil)."
      ]
    },
    {
      "cell_type": "markdown",
      "metadata": {
        "id": "lb0LmE3hEOoQ"
      },
      "source": [
        "Answer: 10% or 0.1"
      ]
    },
    {
      "cell_type": "markdown",
      "metadata": {
        "id": "rbNyx9Pd6_ze"
      },
      "source": [
        "12) Determine P(Slytherin).  Hint: This is a little tricky.  This is equal to the probability of a student being evil (and therefore being sorted into Slytherin) plus the probability of not being evil and being sorted into Slytherin."
      ]
    },
    {
      "cell_type": "markdown",
      "metadata": {
        "id": "f8isF3l-EPHD"
      },
      "source": [
        "Answer: 10% or .1"
      ]
    },
    {
      "cell_type": "markdown",
      "metadata": {
        "id": "K_hfqxQg7pZo"
      },
      "source": [
        "13) Calculate P(Evil|Slytherin) using the formula\n",
        "\n",
        "$$P(Evil|Slytherin)= \\frac{P(Slytherin|Evil)P(Evil)}{P(Slytherin)}$$"
      ]
    },
    {
      "cell_type": "code",
      "metadata": {
        "id": "jBoWm8SWN_Ea",
        "outputId": "bc7ba627-5455-4927-f28f-c740ec04684b",
        "colab": {
          "base_uri": "https://localhost:8080/"
        }
      },
      "source": [
        "(((.1*.2)/.1)*.1)/.2"
      ],
      "execution_count": 25,
      "outputs": [
        {
          "output_type": "execute_result",
          "data": {
            "text/plain": [
              "0.10000000000000002"
            ]
          },
          "metadata": {
            "tags": []
          },
          "execution_count": 25
        }
      ]
    },
    {
      "cell_type": "markdown",
      "metadata": {
        "id": "xG31AYm1KeH7"
      },
      "source": [
        "#Portfolio Project Assignment\n",
        "\n",
        "Watch the Porfolio Project websites mini-lecture: https://www.youtube.com/watch?v=gxbNCGERUjc&feature=youtu.be&ab_channel=LambdaSchool\n",
        "\n",
        "\n",
        "Begin to set up your own Portfolio Project website."
      ]
    }
  ]
}