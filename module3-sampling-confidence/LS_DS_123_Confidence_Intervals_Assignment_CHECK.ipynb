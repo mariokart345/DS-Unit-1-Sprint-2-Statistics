{
  "nbformat": 4,
  "nbformat_minor": 0,
  "metadata": {
    "colab": {
      "name": "LS_DS_123_Confidence_Intervals_Assignment_CHECK.ipynb",
      "provenance": [],
      "collapsed_sections": []
    },
    "kernelspec": {
      "name": "python3",
      "display_name": "Python 3"
    }
  },
  "cells": [
    {
      "cell_type": "markdown",
      "metadata": {
        "id": "eI13byJQrZgw"
      },
      "source": [
        "# Lambda School Data Science - Unit 1 Sprint 2 Module 3\n",
        "\n",
        "---\n",
        "\n",
        "## Assignment: Sampling and Confidence Intervals"
      ]
    },
    {
      "cell_type": "markdown",
      "metadata": {
        "id": "yt6t5-QO1dno"
      },
      "source": [
        "### Objectives\n",
        "\n",
        "* Objective 01 - explain the concepts of statistical estimate, precision, and standard error as they apply to inferential statistics\n",
        "* Objective 02 - explain the implications of the central limit theorem in inferential statistics\n",
        "* Objective 03 - explain the purpose of and identify applications for confidence intervals\n",
        "demonstrate how to build a confidence interval around a sample estimate\n",
        "* Objective 04 - visualize a confidence interval in order to communicate the precision of sample estimates"
      ]
    },
    {
      "cell_type": "markdown",
      "metadata": {
        "id": "g_c3L9CeANiJ"
      },
      "source": [
        "## Confidence Intervals\n",
        "\n",
        "Soft drinks like Coke and Pepsi are manufactured to have a standard caffeine content. For example, a 12-oz serving of Coke has 34mg of caffeine, and a 12-oz serving of Pepsi has 37.6mg of caffeine. However, fountain soft drinks are typically mixed in individual restaurant dispensers, so it is more difficult to maintain a standard level of caffeine per serving. In this study, researchers randomly sampled Coke, Diet Coke, Pepsi, and Diet Pepsi at a set of franchise restaurants and measured the caffeine content in 12oz of each soft drink. The data is found in the Soda.xlsx dataset.\n",
        "\n",
        "Because individuals can be sensitive to caffeine – and because the manufacturers are interested in product consistency – we wish to estimate the mean caffeine content in 12oz of Coke served in franchise restaurants using a 95% confidence interval. \n",
        "\n",
        "You can find the Coke data here: 'https://raw.githubusercontent.com/Chelsea-Myers/Lambda-Intro/master/Coke.csv'\n",
        "\n",
        "The first variable is the sample ID and the second variable is the caffeine content in the 12-oz sample measured in mg.\n",
        "\n",
        "Source: A.N. Garand and L.N. Bell (1997). \"Caffeine Content of Fountain and Private-Label Store Brand Carbonated Beverages,\" Journal of the American Dietetic Association, Vol. 97, #2, pp. 179-182.\n"
      ]
    },
    {
      "cell_type": "markdown",
      "metadata": {
        "id": "oaJpAIakUo31"
      },
      "source": [
        "### 1) Load the dataset and print the first few rows.\n",
        "\n",
        "* name your DataFrame `coke_df`\n",
        "* set `skipinitialspace=True`\n",
        "* set `header=0`"
      ]
    },
    {
      "cell_type": "code",
      "metadata": {
        "id": "yXwMJQGrAIbO"
      },
      "source": [
        "# Import your libraries and load the data\n",
        "import pandas as pd\n",
        "coke_df=pd.read_csv('https://raw.githubusercontent.com/Chelsea-Myers/Lambda-Intro/master/Coke.csv',skipinitialspace=True, header=0)"
      ],
      "execution_count": null,
      "outputs": []
    },
    {
      "cell_type": "code",
      "metadata": {
        "id": "pYsFvm1dPygj",
        "colab": {
          "base_uri": "https://localhost:8080/",
          "height": 204
        },
        "outputId": "e005fedd-72f9-41cb-e48d-36a1b8dfeb83"
      },
      "source": [
        "# Take a look at your data\n",
        "coke_df.head()"
      ],
      "execution_count": null,
      "outputs": [
        {
          "output_type": "execute_result",
          "data": {
            "text/html": [
              "<div>\n",
              "<style scoped>\n",
              "    .dataframe tbody tr th:only-of-type {\n",
              "        vertical-align: middle;\n",
              "    }\n",
              "\n",
              "    .dataframe tbody tr th {\n",
              "        vertical-align: top;\n",
              "    }\n",
              "\n",
              "    .dataframe thead th {\n",
              "        text-align: right;\n",
              "    }\n",
              "</style>\n",
              "<table border=\"1\" class=\"dataframe\">\n",
              "  <thead>\n",
              "    <tr style=\"text-align: right;\">\n",
              "      <th></th>\n",
              "      <th>Drink</th>\n",
              "      <th>Caffeine</th>\n",
              "    </tr>\n",
              "  </thead>\n",
              "  <tbody>\n",
              "    <tr>\n",
              "      <th>0</th>\n",
              "      <td>1</td>\n",
              "      <td>47.32</td>\n",
              "    </tr>\n",
              "    <tr>\n",
              "      <th>1</th>\n",
              "      <td>2</td>\n",
              "      <td>43.78</td>\n",
              "    </tr>\n",
              "    <tr>\n",
              "      <th>2</th>\n",
              "      <td>3</td>\n",
              "      <td>48.12</td>\n",
              "    </tr>\n",
              "    <tr>\n",
              "      <th>3</th>\n",
              "      <td>4</td>\n",
              "      <td>43.25</td>\n",
              "    </tr>\n",
              "    <tr>\n",
              "      <th>4</th>\n",
              "      <td>5</td>\n",
              "      <td>46.42</td>\n",
              "    </tr>\n",
              "  </tbody>\n",
              "</table>\n",
              "</div>"
            ],
            "text/plain": [
              "   Drink  Caffeine\n",
              "0      1     47.32\n",
              "1      2     43.78\n",
              "2      3     48.12\n",
              "3      4     43.25\n",
              "4      5     46.42"
            ]
          },
          "metadata": {
            "tags": []
          },
          "execution_count": 4
        }
      ]
    },
    {
      "cell_type": "code",
      "metadata": {
        "id": "igi_7D8S17Gg",
        "colab": {
          "base_uri": "https://localhost:8080/"
        },
        "outputId": "23db533a-80a1-41e8-a24c-867501229a90"
      },
      "source": [
        "# This is an ANSWER CHECK cell.\n",
        "# Don't alter this cell if you want accurate feedback\n",
        "#------------------------------------------------------------------------------#\n",
        "\n",
        "# check if the DataFrame was created\n",
        "assert not coke_df.empty, 'Make sure the df name is accurate and you loaded the correct URL.'\n",
        "# check the shape of the DataFrame\n",
        "assert coke_df.shape == (50, 2), 'Is your data loaded with the correct argument?'\n",
        "print('Correct! Continue to the next question')"
      ],
      "execution_count": null,
      "outputs": [
        {
          "output_type": "stream",
          "text": [
            "Correct! Continue to the next question\n"
          ],
          "name": "stdout"
        }
      ]
    },
    {
      "cell_type": "markdown",
      "metadata": {
        "id": "wOQ-9E8uYcni"
      },
      "source": [
        "###2) Calculate the mean, standard deviation (SD), standard error (SE) for the caffeine content and n for the sample size. \n",
        "\n",
        "Label your variables as follows:\n",
        "\n",
        "* `mean_caffeine`\n",
        "* `sd_caffeine`\n",
        "* `n_caffeine`\n",
        "* `se_caffeine`"
      ]
    },
    {
      "cell_type": "code",
      "metadata": {
        "id": "m1vuFGxVQo64",
        "colab": {
          "base_uri": "https://localhost:8080/"
        },
        "outputId": "bf79a6a2-d5c2-404d-b4b1-c28ba1993b0f"
      },
      "source": [
        "mean_caffeine=coke_df['Caffeine'].mean()\n",
        "sd_caffeine=coke_df['Caffeine'].std()\n",
        "n_caffeine=coke_df['Caffeine'].count()\n",
        "se_caffeine=sd_caffeine/(n_caffeine**(1/2))\n",
        "print(mean_caffeine)\n",
        "print(sd_caffeine)\n",
        "print(n_caffeine)\n",
        "print(se_caffeine)"
      ],
      "execution_count": null,
      "outputs": [
        {
          "output_type": "stream",
          "text": [
            "37.9402\n",
            "5.243756828216712\n",
            "50\n",
            "0.7415792024250598\n"
          ],
          "name": "stdout"
        }
      ]
    },
    {
      "cell_type": "code",
      "metadata": {
        "id": "5qorI8MB9G0c",
        "colab": {
          "base_uri": "https://localhost:8080/"
        },
        "outputId": "cca874d2-3765-42e1-99a7-5b4cb46ef940"
      },
      "source": [
        "# This is an ANSWER CHECK cell.\n",
        "# Don't alter this cell if you want accurate feedback\n",
        "#------------------------------------------------------------------------------#\n",
        "\n",
        "# check statistics calculations\n",
        "assert round(mean_caffeine) == 38, 'Check your mean value'\n",
        "assert round(sd_caffeine) == 5, 'Check your standard deviation value'\n",
        "assert n_caffeine == 50, 'Check the sample number'\n",
        "assert round(se_caffeine, 2) == 0.74, 'Check the standard error value'\n",
        "print('Correct! Continue to the next question')"
      ],
      "execution_count": null,
      "outputs": [
        {
          "output_type": "stream",
          "text": [
            "Correct! Continue to the next question\n"
          ],
          "name": "stdout"
        }
      ]
    },
    {
      "cell_type": "markdown",
      "metadata": {
        "id": "Eu7eTFgh9Hcd"
      },
      "source": [
        "### Summarize your results from above in a sentence or two."
      ]
    },
    {
      "cell_type": "markdown",
      "metadata": {
        "id": "y2Rz-8O-YmF9"
      },
      "source": [
        "The mean of the sample size is 37.94 "
      ]
    },
    {
      "cell_type": "markdown",
      "metadata": {
        "id": "RySL5E7GEHGf"
      },
      "source": [
        "###3) Find t* for a 95% confidence interval.  \n",
        "\n",
        "Use the starter code below and *fill in the degrees of freedom*. The `t_star` variable has been created for you."
      ]
    },
    {
      "cell_type": "code",
      "metadata": {
        "id": "ti9x37XSQ_yL",
        "colab": {
          "base_uri": "https://localhost:8080/"
        },
        "outputId": "d773606a-aaa2-48e1-fd69-3c846b688b1b"
      },
      "source": [
        "# Import the stats library\n",
        "from scipy.stats import t\n",
        "\n",
        "#Don't worry too much about where the 0.975 comes from.  It has to do\n",
        "#with wanting to determine the *middle* 95% of the t-distribution\n",
        "#We're going to learn how to calculate a 95% CI this easy way in just a minute.\n",
        "\n",
        "#Hint: Recall that n = 223 for the body temp problem. What was the dof for that problem?\n",
        "\n",
        "### your code here: fill in the degrees of freedom ###\n",
        "\n",
        "t_star = t.ppf(0.975, df=n_caffeine-1)\n",
        "print('t_star =', t_star)"
      ],
      "execution_count": null,
      "outputs": [
        {
          "output_type": "stream",
          "text": [
            "t_star = 2.009575234489209\n"
          ],
          "name": "stdout"
        }
      ]
    },
    {
      "cell_type": "code",
      "metadata": {
        "id": "7N34GArqCuhY",
        "colab": {
          "base_uri": "https://localhost:8080/"
        },
        "outputId": "808431d3-69ec-45fd-aa49-36d52212cd04"
      },
      "source": [
        "# This is an ANSWER CHECK cell.\n",
        "# Don't alter this cell if you want accurate feedback\n",
        "#------------------------------------------------------------------------------#\n",
        "\n",
        "# check statistics calculations\n",
        "assert round(t_star) == 2, 'Check the dof you entered!'\n",
        "print('Correct! Continue to the next question')"
      ],
      "execution_count": null,
      "outputs": [
        {
          "output_type": "stream",
          "text": [
            "Correct! Continue to the next question\n"
          ],
          "name": "stdout"
        }
      ]
    },
    {
      "cell_type": "markdown",
      "metadata": {
        "id": "AddooPk1JBvQ"
      },
      "source": [
        "###4) Calculate the margin of error for a 95% confidence interval for the mean caffeine content in a 12-oz Coke. Name your variable `m_err`.\n",
        "\n"
      ]
    },
    {
      "cell_type": "code",
      "metadata": {
        "id": "IjjYtXodJW-b",
        "colab": {
          "base_uri": "https://localhost:8080/"
        },
        "outputId": "e7933daf-5a71-4531-cbe3-7299dd1ca3cb"
      },
      "source": [
        "t_star=t.ppf(.975,df=n_caffeine-1)\n",
        "m_err=t_star*se_caffeine\n",
        "m_err"
      ],
      "execution_count": null,
      "outputs": [
        {
          "output_type": "execute_result",
          "data": {
            "text/plain": [
              "1.49025919960566"
            ]
          },
          "metadata": {
            "tags": []
          },
          "execution_count": 18
        }
      ]
    },
    {
      "cell_type": "code",
      "metadata": {
        "id": "s0w_f66zDn31",
        "colab": {
          "base_uri": "https://localhost:8080/"
        },
        "outputId": "b9cd9e59-8453-479d-f153-fb7320a9e9a1"
      },
      "source": [
        "# This is an ANSWER CHECK cell.\n",
        "# Don't alter this cell if you want accurate feedback\n",
        "#------------------------------------------------------------------------------#\n",
        "\n",
        "# check margin of error calculation\n",
        "assert round(m_err, 2) == 1.49, 'Did you multiply m_err by the correct value?'\n",
        "print('Correct! Continue to the next question')"
      ],
      "execution_count": null,
      "outputs": [
        {
          "output_type": "stream",
          "text": [
            "Correct! Continue to the next question\n"
          ],
          "name": "stdout"
        }
      ]
    },
    {
      "cell_type": "markdown",
      "metadata": {
        "id": "bhiK1zIPEWBd"
      },
      "source": [
        "### State the margin of error answer with the correct units. (example: The margin of error is 5 pounds per bag of cat food)."
      ]
    },
    {
      "cell_type": "markdown",
      "metadata": {
        "id": "ePBmVZU7N2nq"
      },
      "source": [
        "The margine of error is ~1.5mg of caffeine in a 12-oz can of Coke"
      ]
    },
    {
      "cell_type": "markdown",
      "metadata": {
        "id": "AtGASqgxYp5t"
      },
      "source": [
        "###5) Calculate a 95% CI for the mean caffeine content in a 12-oz fountain Coke with the CI formula using the summary statistics and t* that you calculated above.\n",
        "\n",
        "Name your variables as follows:\n",
        "\n",
        "* lower confidence level: `lower_CL`\n",
        "* upper confidence level: `upper_CL`"
      ]
    },
    {
      "cell_type": "code",
      "metadata": {
        "id": "JPUE0osGEw0M"
      },
      "source": [
        "lower_CL=mean_caffeine-(t_star*se_caffeine)\n",
        "upper_CL=mean_caffeine+(t_star*se_caffeine)"
      ],
      "execution_count": null,
      "outputs": []
    },
    {
      "cell_type": "code",
      "metadata": {
        "id": "yPBvD9x6FMZU",
        "colab": {
          "base_uri": "https://localhost:8080/"
        },
        "outputId": "c62c893a-d4eb-4adb-da4a-fed8d72e1608"
      },
      "source": [
        "# This is an ANSWER CHECK cell.\n",
        "# Don't alter this cell if you want accurate feedback\n",
        "#------------------------------------------------------------------------------#\n",
        "\n",
        "# check confidence level calculations\n",
        "assert round(lower_CL, 2) == 36.45, 'Check your lower CL calculation.'\n",
        "assert round(upper_CL, 2) == 39.43, 'Check your upper CL calculation.'\n",
        "print('Correct! Continue to the next question')"
      ],
      "execution_count": null,
      "outputs": [
        {
          "output_type": "stream",
          "text": [
            "Correct! Continue to the next question\n"
          ],
          "name": "stdout"
        }
      ]
    },
    {
      "cell_type": "markdown",
      "metadata": {
        "id": "gAKJlaMyEzVz"
      },
      "source": [
        "###6) Calculate a **95% confidence interval** for the mean caffeine content in a 12-oz fountain Coke using the t-interval function in Python. Name your variable `t_int_95`."
      ]
    },
    {
      "cell_type": "code",
      "metadata": {
        "id": "GSo4uKWVFKwQ",
        "colab": {
          "base_uri": "https://localhost:8080/"
        },
        "outputId": "49f5376d-343a-439a-cc3a-448292181611"
      },
      "source": [
        "t_int_95=t.interval(alpha=.95,df=n_caffeine-1,loc=mean_caffeine,scale=se_caffeine)\n",
        "t_int_95"
      ],
      "execution_count": null,
      "outputs": [
        {
          "output_type": "execute_result",
          "data": {
            "text/plain": [
              "(36.44994080039434, 39.43045919960566)"
            ]
          },
          "metadata": {
            "tags": []
          },
          "execution_count": 18
        }
      ]
    },
    {
      "cell_type": "code",
      "metadata": {
        "id": "oTCZbc82GgHX",
        "colab": {
          "base_uri": "https://localhost:8080/"
        },
        "outputId": "8bc1d066-5c35-42d5-ab60-949267892cbb"
      },
      "source": [
        "# This is an ANSWER CHECK cell.\n",
        "# Don't alter this cell if you want accurate feedback\n",
        "#------------------------------------------------------------------------------#\n",
        "\n",
        "# check confidence level calculations\n",
        "assert round(t_int_95[0], 2) == 36.45, 'Check your interval calculation.'\n",
        "assert round(t_int_95[1], 2) == 39.43, 'Check your interval calculation.'\n",
        "print('Correct! Continue to the next question')"
      ],
      "execution_count": null,
      "outputs": [
        {
          "output_type": "stream",
          "text": [
            "Correct! Continue to the next question\n"
          ],
          "name": "stdout"
        }
      ]
    },
    {
      "cell_type": "markdown",
      "metadata": {
        "id": "8oD8lp84YyvU"
      },
      "source": [
        "###7) Compare the two confidence intervals you calculated.  Do they match?  Should they?"
      ]
    },
    {
      "cell_type": "markdown",
      "metadata": {
        "id": "mBMX1NAIFT88"
      },
      "source": [
        "They do match and they should!"
      ]
    },
    {
      "cell_type": "markdown",
      "metadata": {
        "id": "-2ulIAGmYudp"
      },
      "source": [
        "###8) Interpret the meaning of the 95% confidence interval for the mean caffeiene content in a 12-oz fountain Coke. in a sentence or two."
      ]
    },
    {
      "cell_type": "markdown",
      "metadata": {
        "id": "hD5HloatYxoh"
      },
      "source": [
        "We are 95% confident that the population mean of caffeine content in a 12oz can of Coke is between 36.45mg and 39.43mg."
      ]
    },
    {
      "cell_type": "markdown",
      "metadata": {
        "id": "SpqgKQfTYvF0"
      },
      "source": [
        "###9) Using the t-interval Python function, calculate a **90% confidence interval** for the mean caffeine content in a 12-oz Coke. Name your variable `t_int_90` (make sure to use `90` at the end!).\n"
      ]
    },
    {
      "cell_type": "code",
      "metadata": {
        "id": "r1y1LE_dPAi6"
      },
      "source": [
        "t_int_90=t.interval(alpha=.90,df=n_caffeine-1,loc=mean_caffeine,scale=se_caffeine)"
      ],
      "execution_count": null,
      "outputs": []
    },
    {
      "cell_type": "code",
      "metadata": {
        "id": "HQggp0yKMpXL",
        "colab": {
          "base_uri": "https://localhost:8080/"
        },
        "outputId": "cf99ab25-f4e9-4aaa-e544-51e8057d2662"
      },
      "source": [
        "# This is an ANSWER CHECK cell.\n",
        "# Don't alter this cell if you want accurate feedback\n",
        "#------------------------------------------------------------------------------#\n",
        "\n",
        "# check confidence level calculations\n",
        "assert round(t_int_90[0], 2) == 36.70, 'Check your interval calculation.'\n",
        "assert round(t_int_90[1], 2) == 39.18, 'Check your interval calculation.'\n",
        "print('Correct! Continue to the next question')"
      ],
      "execution_count": null,
      "outputs": [
        {
          "output_type": "stream",
          "text": [
            "Correct! Continue to the next question\n"
          ],
          "name": "stdout"
        }
      ]
    },
    {
      "cell_type": "markdown",
      "metadata": {
        "id": "d5UezihtM4d6"
      },
      "source": [
        "### Is this estimate *more accurate* or *more precise* (pick one) than the 95% confidence interval?\n"
      ]
    },
    {
      "cell_type": "markdown",
      "metadata": {
        "id": "7WIQtB0PGJP4"
      },
      "source": [
        "The estimate is more precise than the 95% confidence interval."
      ]
    },
    {
      "cell_type": "markdown",
      "metadata": {
        "id": "hQsmY8RnHKJf"
      },
      "source": [
        "###10) Using the t-interval Python function, calculate a **99% confidence interval** for the mean caffeine content in a 12-oz Coke.  Name your variable `t_int_99` (make sure to use `99` at the end!).\n",
        "\n",
        "\n"
      ]
    },
    {
      "cell_type": "code",
      "metadata": {
        "id": "YrKq5pXYPNnK"
      },
      "source": [
        "t_int_99=t.interval(alpha=.99,df=n_caffeine-1,loc=mean_caffeine,scale=se_caffeine)"
      ],
      "execution_count": null,
      "outputs": []
    },
    {
      "cell_type": "code",
      "metadata": {
        "id": "4mkiLun_M_Af",
        "colab": {
          "base_uri": "https://localhost:8080/"
        },
        "outputId": "f1bc32c6-49b1-4d56-e77a-967ec3172041"
      },
      "source": [
        "# This is an ANSWER CHECK cell.\n",
        "# Don't alter this cell if you want accurate feedback\n",
        "#------------------------------------------------------------------------------#\n",
        "\n",
        "# check confidence level calculations\n",
        "assert round(t_int_99[0], 2) == 35.95, 'Check your interval calculation.'\n",
        "assert round(t_int_99[1], 2) == 39.93, 'Check your interval calculation.'\n",
        "print('Correct! Continue to the next question')"
      ],
      "execution_count": null,
      "outputs": [
        {
          "output_type": "stream",
          "text": [
            "Correct! Continue to the next question\n"
          ],
          "name": "stdout"
        }
      ]
    },
    {
      "cell_type": "markdown",
      "metadata": {
        "id": "j2vFv5eTM_f5"
      },
      "source": [
        "### Is this estimate more *accurate* or more *precise* (pick one) than the 99% confidence interval?"
      ]
    },
    {
      "cell_type": "markdown",
      "metadata": {
        "id": "liduCGIkJAC2"
      },
      "source": [
        "SHORT ANSWER TEXT HERE"
      ]
    },
    {
      "cell_type": "markdown",
      "metadata": {
        "id": "9tIHBlM_SyGR"
      },
      "source": [
        "## Stretch goals:\n",
        "\n",
        "###1) The correspondence between confidence intervals and hypothesis tests.\n",
        "\n",
        "Read [this](https://https://blog.minitab.com/blog/adventures-in-statistics-2/understanding-hypothesis-tests-confidence-intervals-and-confidence-levels#:~:text=If%20a%20hypothesis%20test%20produces,corresponding%20confidence%20level%20is%2095%25.&text=If%20the%20confidence%20interval%20does,the%20results%20are%20statistically%20significant.) article about the correspondence between confidence intervals and hypothesis tests.  Feel free to read the whole article, but the relevant part can be found under the heading Why P Values and Confidence Intervals Always Agree About Statistical Significance.\n",
        "\n",
        "Imagine you work for quality control at Coke and are tasked with making sure that the caffeiene content in the fountain beverages served in restaurants is the same as in a 12-oz can of Coke (34mg).  If you believe that the mean caffeiene content in fountain coke is not 34mg, you must re-train the franchise managers to make sure the Coke served has the correct caffeiene level.\n",
        "\n",
        "Based on the confidence interval you calculated in the assignment, do you believe that the mean caffeiene content is statistically significantly different from 34 mg in a 12-oz serving?\n"
      ]
    },
    {
      "cell_type": "markdown",
      "metadata": {
        "id": "4Aa3df-_LgnT"
      },
      "source": [
        "Because 34mg is not in the bounds of the 95% confidence interval, we can reject the null hypothesis that the mean caffeiene content in 12-oz of fountain Coke is equal to 34mg.  Instead, we conclude it is between about 36.4 and 39.4 mg."
      ]
    },
    {
      "cell_type": "markdown",
      "metadata": {
        "id": "Ne4k2kd3LhfV"
      },
      "source": [
        "###2) If we increased the sample size from 50 to 100 but the sample mean and SD remained the same, describe **two** ways the margin of error would change.  Would the margin of error become smaller or larger?"
      ]
    },
    {
      "cell_type": "markdown",
      "metadata": {
        "id": "6lVcoTU6L5Pg"
      },
      "source": [
        "Both t* and n would change.  Therefore"
      ]
    },
    {
      "cell_type": "code",
      "metadata": {
        "id": "PQkk3nu4L4vu"
      },
      "source": [
        "t_star = t.ppf(0.975,df=99)\n"
      ],
      "execution_count": null,
      "outputs": []
    },
    {
      "cell_type": "markdown",
      "metadata": {
        "id": "5bZ8LyiQXnpO"
      },
      "source": [
        "SHORT ANSWER TEXT HERE\n"
      ]
    }
  ]
}